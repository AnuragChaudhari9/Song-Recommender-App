{
 "cells": [
  {
   "cell_type": "code",
   "execution_count": 22,
   "id": "40320d4d-5e6d-48b0-a408-6349ae00b5d2",
   "metadata": {},
   "outputs": [],
   "source": [
    "import pandas as pd"
   ]
  },
  {
   "cell_type": "markdown",
   "id": "3c65ed2f-8271-462a-8e2f-5eba06d658a8",
   "metadata": {},
   "source": [
    "**Reading in the Million Song Dataset downloaded Kaggle"
   ]
  },
  {
   "cell_type": "code",
   "execution_count": 46,
   "id": "090402cb-0ba1-46b9-976a-2929b161d335",
   "metadata": {},
   "outputs": [],
   "source": [
    "df = pd.read_csv(\"E:/DS Project/Music Recommendation System/archive/spotify_millsongdata.csv\")"
   ]
  },
  {
   "cell_type": "code",
   "execution_count": 47,
   "id": "6010a697-bd50-4cdb-afc6-5a920d4d038f",
   "metadata": {},
   "outputs": [
    {
     "data": {
      "text/html": [
       "<div>\n",
       "<style scoped>\n",
       "    .dataframe tbody tr th:only-of-type {\n",
       "        vertical-align: middle;\n",
       "    }\n",
       "\n",
       "    .dataframe tbody tr th {\n",
       "        vertical-align: top;\n",
       "    }\n",
       "\n",
       "    .dataframe thead th {\n",
       "        text-align: right;\n",
       "    }\n",
       "</style>\n",
       "<table border=\"1\" class=\"dataframe\">\n",
       "  <thead>\n",
       "    <tr style=\"text-align: right;\">\n",
       "      <th></th>\n",
       "      <th>artist</th>\n",
       "      <th>song</th>\n",
       "      <th>link</th>\n",
       "      <th>text</th>\n",
       "    </tr>\n",
       "  </thead>\n",
       "  <tbody>\n",
       "    <tr>\n",
       "      <th>0</th>\n",
       "      <td>ABBA</td>\n",
       "      <td>Ahe's My Kind Of Girl</td>\n",
       "      <td>/a/abba/ahes+my+kind+of+girl_20598417.html</td>\n",
       "      <td>Look at her face, it's a wonderful face  \\r\\nA...</td>\n",
       "    </tr>\n",
       "    <tr>\n",
       "      <th>1</th>\n",
       "      <td>ABBA</td>\n",
       "      <td>Andante, Andante</td>\n",
       "      <td>/a/abba/andante+andante_20002708.html</td>\n",
       "      <td>Take it easy with me, please  \\r\\nTouch me gen...</td>\n",
       "    </tr>\n",
       "    <tr>\n",
       "      <th>2</th>\n",
       "      <td>ABBA</td>\n",
       "      <td>As Good As New</td>\n",
       "      <td>/a/abba/as+good+as+new_20003033.html</td>\n",
       "      <td>I'll never know why I had to go  \\r\\nWhy I had...</td>\n",
       "    </tr>\n",
       "    <tr>\n",
       "      <th>3</th>\n",
       "      <td>ABBA</td>\n",
       "      <td>Bang</td>\n",
       "      <td>/a/abba/bang_20598415.html</td>\n",
       "      <td>Making somebody happy is a question of give an...</td>\n",
       "    </tr>\n",
       "    <tr>\n",
       "      <th>4</th>\n",
       "      <td>ABBA</td>\n",
       "      <td>Bang-A-Boomerang</td>\n",
       "      <td>/a/abba/bang+a+boomerang_20002668.html</td>\n",
       "      <td>Making somebody happy is a question of give an...</td>\n",
       "    </tr>\n",
       "  </tbody>\n",
       "</table>\n",
       "</div>"
      ],
      "text/plain": [
       "  artist                   song                                        link  \\\n",
       "0   ABBA  Ahe's My Kind Of Girl  /a/abba/ahes+my+kind+of+girl_20598417.html   \n",
       "1   ABBA       Andante, Andante       /a/abba/andante+andante_20002708.html   \n",
       "2   ABBA         As Good As New        /a/abba/as+good+as+new_20003033.html   \n",
       "3   ABBA                   Bang                  /a/abba/bang_20598415.html   \n",
       "4   ABBA       Bang-A-Boomerang      /a/abba/bang+a+boomerang_20002668.html   \n",
       "\n",
       "                                                text  \n",
       "0  Look at her face, it's a wonderful face  \\r\\nA...  \n",
       "1  Take it easy with me, please  \\r\\nTouch me gen...  \n",
       "2  I'll never know why I had to go  \\r\\nWhy I had...  \n",
       "3  Making somebody happy is a question of give an...  \n",
       "4  Making somebody happy is a question of give an...  "
      ]
     },
     "execution_count": 47,
     "metadata": {},
     "output_type": "execute_result"
    }
   ],
   "source": [
    "df.head(5)"
   ]
  },
  {
   "cell_type": "code",
   "execution_count": 48,
   "id": "85400c48-f4f6-4d73-951f-b1701f1a834a",
   "metadata": {},
   "outputs": [
    {
     "data": {
      "text/html": [
       "<div>\n",
       "<style scoped>\n",
       "    .dataframe tbody tr th:only-of-type {\n",
       "        vertical-align: middle;\n",
       "    }\n",
       "\n",
       "    .dataframe tbody tr th {\n",
       "        vertical-align: top;\n",
       "    }\n",
       "\n",
       "    .dataframe thead th {\n",
       "        text-align: right;\n",
       "    }\n",
       "</style>\n",
       "<table border=\"1\" class=\"dataframe\">\n",
       "  <thead>\n",
       "    <tr style=\"text-align: right;\">\n",
       "      <th></th>\n",
       "      <th>artist</th>\n",
       "      <th>song</th>\n",
       "      <th>link</th>\n",
       "      <th>text</th>\n",
       "    </tr>\n",
       "  </thead>\n",
       "  <tbody>\n",
       "    <tr>\n",
       "      <th>57645</th>\n",
       "      <td>Ziggy Marley</td>\n",
       "      <td>Good Old Days</td>\n",
       "      <td>/z/ziggy+marley/good+old+days_10198588.html</td>\n",
       "      <td>Irie days come on play  \\r\\nLet the angels fly...</td>\n",
       "    </tr>\n",
       "    <tr>\n",
       "      <th>57646</th>\n",
       "      <td>Ziggy Marley</td>\n",
       "      <td>Hand To Mouth</td>\n",
       "      <td>/z/ziggy+marley/hand+to+mouth_20531167.html</td>\n",
       "      <td>Power to the workers  \\r\\nMore power  \\r\\nPowe...</td>\n",
       "    </tr>\n",
       "    <tr>\n",
       "      <th>57647</th>\n",
       "      <td>Zwan</td>\n",
       "      <td>Come With Me</td>\n",
       "      <td>/z/zwan/come+with+me_20148981.html</td>\n",
       "      <td>all you need  \\r\\nis something i'll believe  \\...</td>\n",
       "    </tr>\n",
       "    <tr>\n",
       "      <th>57648</th>\n",
       "      <td>Zwan</td>\n",
       "      <td>Desire</td>\n",
       "      <td>/z/zwan/desire_20148986.html</td>\n",
       "      <td>northern star  \\r\\nam i frightened  \\r\\nwhere ...</td>\n",
       "    </tr>\n",
       "    <tr>\n",
       "      <th>57649</th>\n",
       "      <td>Zwan</td>\n",
       "      <td>Heartsong</td>\n",
       "      <td>/z/zwan/heartsong_20148991.html</td>\n",
       "      <td>come in  \\r\\nmake yourself at home  \\r\\ni'm a ...</td>\n",
       "    </tr>\n",
       "  </tbody>\n",
       "</table>\n",
       "</div>"
      ],
      "text/plain": [
       "             artist           song  \\\n",
       "57645  Ziggy Marley  Good Old Days   \n",
       "57646  Ziggy Marley  Hand To Mouth   \n",
       "57647          Zwan   Come With Me   \n",
       "57648          Zwan         Desire   \n",
       "57649          Zwan      Heartsong   \n",
       "\n",
       "                                              link  \\\n",
       "57645  /z/ziggy+marley/good+old+days_10198588.html   \n",
       "57646  /z/ziggy+marley/hand+to+mouth_20531167.html   \n",
       "57647           /z/zwan/come+with+me_20148981.html   \n",
       "57648                 /z/zwan/desire_20148986.html   \n",
       "57649              /z/zwan/heartsong_20148991.html   \n",
       "\n",
       "                                                    text  \n",
       "57645  Irie days come on play  \\r\\nLet the angels fly...  \n",
       "57646  Power to the workers  \\r\\nMore power  \\r\\nPowe...  \n",
       "57647  all you need  \\r\\nis something i'll believe  \\...  \n",
       "57648  northern star  \\r\\nam i frightened  \\r\\nwhere ...  \n",
       "57649  come in  \\r\\nmake yourself at home  \\r\\ni'm a ...  "
      ]
     },
     "execution_count": 48,
     "metadata": {},
     "output_type": "execute_result"
    }
   ],
   "source": [
    "df.tail(5)"
   ]
  },
  {
   "cell_type": "code",
   "execution_count": 49,
   "id": "63966d6e-cb77-4e1f-bc8c-e50e00cee406",
   "metadata": {},
   "outputs": [
    {
     "data": {
      "text/plain": [
       "(57650, 4)"
      ]
     },
     "execution_count": 49,
     "metadata": {},
     "output_type": "execute_result"
    }
   ],
   "source": [
    "df.shape"
   ]
  },
  {
   "cell_type": "code",
   "execution_count": 50,
   "id": "5d14f3e0-cb6b-41f3-a99b-0c3fdf43cea4",
   "metadata": {},
   "outputs": [
    {
     "data": {
      "text/plain": [
       "artist    0\n",
       "song      0\n",
       "link      0\n",
       "text      0\n",
       "dtype: int64"
      ]
     },
     "execution_count": 50,
     "metadata": {},
     "output_type": "execute_result"
    }
   ],
   "source": [
    "df.isnull().sum()"
   ]
  },
  {
   "cell_type": "code",
   "execution_count": 51,
   "id": "5a25678b-4784-4fa9-8591-38f004d6292c",
   "metadata": {},
   "outputs": [],
   "source": [
    "df =df.sample(5000).drop('link', axis=1).reset_index(drop=True)"
   ]
  },
  {
   "cell_type": "code",
   "execution_count": 52,
   "id": "a3f14767-598d-4534-8275-7512c660e5f6",
   "metadata": {},
   "outputs": [
    {
     "data": {
      "text/html": [
       "<div>\n",
       "<style scoped>\n",
       "    .dataframe tbody tr th:only-of-type {\n",
       "        vertical-align: middle;\n",
       "    }\n",
       "\n",
       "    .dataframe tbody tr th {\n",
       "        vertical-align: top;\n",
       "    }\n",
       "\n",
       "    .dataframe thead th {\n",
       "        text-align: right;\n",
       "    }\n",
       "</style>\n",
       "<table border=\"1\" class=\"dataframe\">\n",
       "  <thead>\n",
       "    <tr style=\"text-align: right;\">\n",
       "      <th></th>\n",
       "      <th>artist</th>\n",
       "      <th>song</th>\n",
       "      <th>text</th>\n",
       "    </tr>\n",
       "  </thead>\n",
       "  <tbody>\n",
       "    <tr>\n",
       "      <th>0</th>\n",
       "      <td>Celine Dion</td>\n",
       "      <td>It's All Coming Back To Me Now</td>\n",
       "      <td>There were nights when the wind was so cold  \\...</td>\n",
       "    </tr>\n",
       "    <tr>\n",
       "      <th>1</th>\n",
       "      <td>Flo-Rida</td>\n",
       "      <td>Come With Me</td>\n",
       "      <td>I met a lot of women on the road  \\r\\nI'm pipi...</td>\n",
       "    </tr>\n",
       "    <tr>\n",
       "      <th>2</th>\n",
       "      <td>INXS</td>\n",
       "      <td>Kill The Pain</td>\n",
       "      <td>Put the red lights on  \\r\\nDon't tell them tha...</td>\n",
       "    </tr>\n",
       "    <tr>\n",
       "      <th>3</th>\n",
       "      <td>Prince</td>\n",
       "      <td>Calhoun Square</td>\n",
       "      <td>I don't like this much to drink  \\r\\nI was the...</td>\n",
       "    </tr>\n",
       "    <tr>\n",
       "      <th>4</th>\n",
       "      <td>Rascal Flatts</td>\n",
       "      <td>Come Wake Me Up</td>\n",
       "      <td>I can usually drink you right off of my mind  ...</td>\n",
       "    </tr>\n",
       "    <tr>\n",
       "      <th>5</th>\n",
       "      <td>Snoop Dogg</td>\n",
       "      <td>Betta Days</td>\n",
       "      <td>Celebrate, grab a drink and put a blunt in the...</td>\n",
       "    </tr>\n",
       "    <tr>\n",
       "      <th>6</th>\n",
       "      <td>Josh Groban</td>\n",
       "      <td>Au Jardin Des Sans Pourquoi</td>\n",
       "      <td>Retournons avant la guerre  \\r\\nAvant la fin  ...</td>\n",
       "    </tr>\n",
       "    <tr>\n",
       "      <th>7</th>\n",
       "      <td>Katy Perry</td>\n",
       "      <td>Black And Gold</td>\n",
       "      <td>If the fish swam out of the ocean  \\r\\nAnd gre...</td>\n",
       "    </tr>\n",
       "    <tr>\n",
       "      <th>8</th>\n",
       "      <td>Cheap Trick</td>\n",
       "      <td>Never Had A Lot To Lose</td>\n",
       "      <td>I don't need no money, honey  \\r\\nFortune and ...</td>\n",
       "    </tr>\n",
       "    <tr>\n",
       "      <th>9</th>\n",
       "      <td>Beach Boys</td>\n",
       "      <td>A Thing Or Two</td>\n",
       "      <td>When I see my baby  \\r\\nWhen I see my little g...</td>\n",
       "    </tr>\n",
       "  </tbody>\n",
       "</table>\n",
       "</div>"
      ],
      "text/plain": [
       "          artist                            song  \\\n",
       "0    Celine Dion  It's All Coming Back To Me Now   \n",
       "1       Flo-Rida                    Come With Me   \n",
       "2           INXS                   Kill The Pain   \n",
       "3         Prince                  Calhoun Square   \n",
       "4  Rascal Flatts                 Come Wake Me Up   \n",
       "5     Snoop Dogg                      Betta Days   \n",
       "6    Josh Groban     Au Jardin Des Sans Pourquoi   \n",
       "7     Katy Perry                  Black And Gold   \n",
       "8    Cheap Trick         Never Had A Lot To Lose   \n",
       "9     Beach Boys                  A Thing Or Two   \n",
       "\n",
       "                                                text  \n",
       "0  There were nights when the wind was so cold  \\...  \n",
       "1  I met a lot of women on the road  \\r\\nI'm pipi...  \n",
       "2  Put the red lights on  \\r\\nDon't tell them tha...  \n",
       "3  I don't like this much to drink  \\r\\nI was the...  \n",
       "4  I can usually drink you right off of my mind  ...  \n",
       "5  Celebrate, grab a drink and put a blunt in the...  \n",
       "6  Retournons avant la guerre  \\r\\nAvant la fin  ...  \n",
       "7  If the fish swam out of the ocean  \\r\\nAnd gre...  \n",
       "8  I don't need no money, honey  \\r\\nFortune and ...  \n",
       "9  When I see my baby  \\r\\nWhen I see my little g...  "
      ]
     },
     "execution_count": 52,
     "metadata": {},
     "output_type": "execute_result"
    }
   ],
   "source": [
    "df.head(10)"
   ]
  },
  {
   "cell_type": "code",
   "execution_count": 53,
   "id": "962808d1-25dc-408d-bd2b-ff9b78d730dc",
   "metadata": {},
   "outputs": [
    {
     "data": {
      "text/plain": [
       "\"There were nights when the wind was so cold  \\r\\nThat my body froze in bed  \\r\\nIf I just listened to it  \\r\\nRight outside the window  \\r\\n  \\r\\nThere were days when the sun was so cruel  \\r\\nThat all the tears turned to dust  \\r\\nAnd I just knew my eyes were  \\r\\nDrying up forever  \\r\\n  \\r\\nI finished crying in the instant that you left  \\r\\nAnd I can't remember where or when or how  \\r\\nAnd I banished every memory you and I had ever made  \\r\\n  \\r\\nBut when you touch me like this  \\r\\nAnd you hold me like that  \\r\\nI just have to admit  \\r\\nThat it's all coming back to me  \\r\\nWhen I touch you like this  \\r\\nAnd I hold you like that  \\r\\nIt's so hard to believe but  \\r\\nIt's all coming back to me  \\r\\n(It's all coming back, it's all coming back to me now)  \\r\\n  \\r\\nThere were moments of gold  \\r\\nAnd there were flashes of light  \\r\\nThere were things I'd never do again  \\r\\nBut then they'd always seemed right  \\r\\nThere were nights of endless pleasure  \\r\\nIt was more than any laws allow  \\r\\nBaby baby  \\r\\n  \\r\\nIf I kiss you like this  \\r\\nAnd if you whisper like that  \\r\\nIt was lost long ago  \\r\\nBut it's all coming back to me  \\r\\nIf you want me like this  \\r\\nAnd if you need me like that  \\r\\nIt was dead long ago  \\r\\nBut it's all coming back to me  \\r\\nIt's so hard to resist  \\r\\nAnd it's all coming back to me  \\r\\nI can barely recall  \\r\\nBut it's all coming back to me now  \\r\\nBut it's all coming back  \\r\\n  \\r\\nThere were those empty threats and hollow lies  \\r\\nAnd whenever you tried to hurt me  \\r\\nI just hurt you even worse  \\r\\nAnd so much deeper  \\r\\n  \\r\\nThere were hours that just went on for days  \\r\\nWhen alone at last we'd count up all the chances  \\r\\nThat were lost to us forever  \\r\\n  \\r\\nBut you were history with the slamming of the door  \\r\\nAnd I made myself so strong again somehow  \\r\\nAnd I never wasted any of my time on you since then  \\r\\n  \\r\\nBut if I touch you like this  \\r\\nAnd if you kiss me like that  \\r\\nIt was so long ago  \\r\\nBut it's all coming back to me  \\r\\nIf you touch me like this  \\r\\nAnd if I kiss you like that  \\r\\nIt was gone with the wind  \\r\\nBut it's all coming back to me  \\r\\n(It's all coming back, it's all coming back to me now)  \\r\\n  \\r\\nThere were moments of gold  \\r\\nAnd there were flashes of light  \\r\\nThere were things we'd never do again  \\r\\nBut then they'd always seemed right  \\r\\nThere were nights of endless pleasure  \\r\\nIt was more than all your laws allow  \\r\\nBaby, baby, baby  \\r\\n  \\r\\nWhen you touch me like this  \\r\\nAnd when you hold me like that  \\r\\nIt was gone with the wind  \\r\\nBut it's all coming back to me  \\r\\nWhen you see me like this  \\r\\nAnd when I see you like that  \\r\\nThen we see what we want to see  \\r\\nAll coming back to me  \\r\\nThe flesh and the fantasies  \\r\\nAll coming back to me  \\r\\nI can barely recall  \\r\\nBut it's all coming back to me now  \\r\\n  \\r\\nIf you forgive me all this  \\r\\nIf I forgive you all that  \\r\\nWe forgive and forget  \\r\\nAnd it's all coming back to me  \\r\\nWhen you see me like this  \\r\\nAnd when I see you like that  \\r\\nWe see just what we want to see  \\r\\nAl coming back to me  \\r\\nThe flesh and the fantasies  \\r\\nAll coming back to me  \\r\\nI can barely recall but it's all coming back to me now  \\r\\n  \\r\\n(It's all coming back to me now)  \\r\\nAnd when you kiss me like this  \\r\\n(It's all coming back to me now)  \\r\\nAnd when I touch you like that  \\r\\n(It's all coming back to me now)  \\r\\nIf you do it like this  \\r\\n(It's all coming back to me now)  \\r\\nAnd if we\\r\\n\\r\\n\""
      ]
     },
     "execution_count": 53,
     "metadata": {},
     "output_type": "execute_result"
    }
   ],
   "source": [
    "df['text'][0]"
   ]
  },
  {
   "cell_type": "code",
   "execution_count": 54,
   "id": "3fc0c666-1330-4b87-98d4-9a04ef5cd821",
   "metadata": {},
   "outputs": [
    {
     "data": {
      "text/plain": [
       "(5000, 3)"
      ]
     },
     "execution_count": 54,
     "metadata": {},
     "output_type": "execute_result"
    }
   ],
   "source": [
    "df.shape"
   ]
  },
  {
   "cell_type": "code",
   "execution_count": 56,
   "id": "0e423e95-e58e-4db9-8260-363794b5cb0e",
   "metadata": {},
   "outputs": [],
   "source": [
    "df['text'] = df['text'].str.lower().replace(r'^\\w\\s', ' ').replace(r'\\n', ' ', regex = True)"
   ]
  },
  {
   "cell_type": "code",
   "execution_count": 57,
   "id": "d2ab2417-898c-40f6-a462-647f3e739c16",
   "metadata": {},
   "outputs": [],
   "source": [
    "import nltk\n",
    "from nltk.stem.porter import PorterStemmer\n",
    "stemmer = PorterStemmer()\n",
    "\n",
    "def tokenization(txt):\n",
    "    tokens = nltk.word_tokenize(txt)\n",
    "    stemming = [stemmer.stem(w) for w in tokens]\n",
    "    return \" \".join(stemming)"
   ]
  },
  {
   "cell_type": "code",
   "execution_count": 60,
   "id": "0fdbb7c8-cf2e-4228-8db4-2c224966c80d",
   "metadata": {},
   "outputs": [
    {
     "data": {
      "text/plain": [
       "'you are beauti'"
      ]
     },
     "execution_count": 60,
     "metadata": {},
     "output_type": "execute_result"
    }
   ],
   "source": [
    "tokenization('you are beautiful')"
   ]
  },
  {
   "cell_type": "code",
   "execution_count": 58,
   "id": "6a0b90b4-227a-40c1-8425-ef76c4cef146",
   "metadata": {},
   "outputs": [],
   "source": [
    "df['text'] = df['text'].apply(lambda x: tokenization(x))"
   ]
  },
  {
   "cell_type": "code",
   "execution_count": 61,
   "id": "2833104e-e1cd-4f3e-a4da-20423ea7722d",
   "metadata": {},
   "outputs": [],
   "source": [
    "from sklearn.feature_extraction.text import TfidfVectorizer\n",
    "from sklearn.metrics.pairwise import cosine_similarity"
   ]
  },
  {
   "cell_type": "code",
   "execution_count": 62,
   "id": "95551c49-26e6-41e0-a6a9-d6a3ff89c989",
   "metadata": {},
   "outputs": [],
   "source": [
    "tfidvector = TfidfVectorizer(analyzer='word',stop_words='english')\n",
    "matrix = tfidvector.fit_transform(df['text'])\n",
    "similarity = cosine_similarity(matrix)"
   ]
  },
  {
   "cell_type": "code",
   "execution_count": 63,
   "id": "1e919c95-e434-4fa0-b74d-3b47eaeeecc2",
   "metadata": {},
   "outputs": [
    {
     "data": {
      "text/plain": [
       "array([1.        , 0.10795466, 0.0338362 , ..., 0.08102038, 0.03140236,\n",
       "       0.02224938])"
      ]
     },
     "execution_count": 63,
     "metadata": {},
     "output_type": "execute_result"
    }
   ],
   "source": [
    "similarity[0]"
   ]
  },
  {
   "cell_type": "code",
   "execution_count": 66,
   "id": "7d822b19-ee6a-4e4a-92b5-b92fdc6558a9",
   "metadata": {},
   "outputs": [
    {
     "data": {
      "text/html": [
       "<div>\n",
       "<style scoped>\n",
       "    .dataframe tbody tr th:only-of-type {\n",
       "        vertical-align: middle;\n",
       "    }\n",
       "\n",
       "    .dataframe tbody tr th {\n",
       "        vertical-align: top;\n",
       "    }\n",
       "\n",
       "    .dataframe thead th {\n",
       "        text-align: right;\n",
       "    }\n",
       "</style>\n",
       "<table border=\"1\" class=\"dataframe\">\n",
       "  <thead>\n",
       "    <tr style=\"text-align: right;\">\n",
       "      <th></th>\n",
       "      <th>artist</th>\n",
       "      <th>song</th>\n",
       "      <th>text</th>\n",
       "    </tr>\n",
       "  </thead>\n",
       "  <tbody>\n",
       "    <tr>\n",
       "      <th>1</th>\n",
       "      <td>Flo-Rida</td>\n",
       "      <td>Come With Me</td>\n",
       "      <td>i met a lot of women on the road i 'm pipe thi...</td>\n",
       "    </tr>\n",
       "  </tbody>\n",
       "</table>\n",
       "</div>"
      ],
      "text/plain": [
       "     artist          song                                               text\n",
       "1  Flo-Rida  Come With Me  i met a lot of women on the road i 'm pipe thi..."
      ]
     },
     "execution_count": 66,
     "metadata": {},
     "output_type": "execute_result"
    }
   ],
   "source": [
    "df[df['song'] == 'Come With Me']"
   ]
  },
  {
   "cell_type": "code",
   "execution_count": 67,
   "id": "e78d0eec-1890-4fa0-8a67-31be94d4f2f2",
   "metadata": {},
   "outputs": [],
   "source": [
    "def recommendation(song_df):\n",
    "    idx = df[df['song'] == song_df].index[0]\n",
    "    distances = sorted(list(enumerate(similarity[idx])),reverse=True,key=lambda x:x[1])\n",
    "    \n",
    "    songs = []\n",
    "    for m_id in distances[1:21]:\n",
    "        songs.append(df.iloc[m_id[0]].song)\n",
    "        \n",
    "    return songs"
   ]
  },
  {
   "cell_type": "code",
   "execution_count": 68,
   "id": "54474284-7747-4e9c-b277-549c99450e79",
   "metadata": {},
   "outputs": [
    {
     "data": {
      "text/plain": [
       "[\"Don't Wanna Be In Love\",\n",
       " 'More And More',\n",
       " 'All The Small Things (Blink 182 Cover)',\n",
       " 'The Man With The Horn',\n",
       " 'I Wanna Be',\n",
       " 'I Wanna Believe You',\n",
       " \"I've Just Seen A Face\",\n",
       " 'Birthday Song',\n",
       " 'One Life',\n",
       " 'I Wanna Get Back With You',\n",
       " 'Put That Thang On U',\n",
       " 'Use Your Love',\n",
       " 'Make It Wit Chu',\n",
       " 'Just Wanna Be With You',\n",
       " 'High For This',\n",
       " \"Don't Wanna Dance Alone\",\n",
       " 'Fight',\n",
       " 'Feels Good At First',\n",
       " 'Novocaine',\n",
       " 'Drive']"
      ]
     },
     "execution_count": 68,
     "metadata": {},
     "output_type": "execute_result"
    }
   ],
   "source": [
    "recommendation('Come With Me')"
   ]
  },
  {
   "cell_type": "code",
   "execution_count": 69,
   "id": "90361053-7c5e-4aa7-b2fe-d1f851008ba6",
   "metadata": {},
   "outputs": [],
   "source": [
    "import pickle\n",
    "pickle.dump(similarity,open('similarity.pkl','wb'))\n",
    "pickle.dump(df,open('df.pkl','wb'))"
   ]
  },
  {
   "cell_type": "code",
   "execution_count": null,
   "id": "dbcd2b5f-d721-469c-b5c1-5215db2b07a1",
   "metadata": {},
   "outputs": [],
   "source": []
  }
 ],
 "metadata": {
  "kernelspec": {
   "display_name": "Python 3 (ipykernel)",
   "language": "python",
   "name": "python3"
  },
  "language_info": {
   "codemirror_mode": {
    "name": "ipython",
    "version": 3
   },
   "file_extension": ".py",
   "mimetype": "text/x-python",
   "name": "python",
   "nbconvert_exporter": "python",
   "pygments_lexer": "ipython3",
   "version": "3.10.5"
  }
 },
 "nbformat": 4,
 "nbformat_minor": 5
}
